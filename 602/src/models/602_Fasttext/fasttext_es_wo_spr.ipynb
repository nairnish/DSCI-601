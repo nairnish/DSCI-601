{
 "cells": [
  {
   "cell_type": "code",
   "execution_count": 2,
   "id": "c6b9f07e-a8ba-41d0-ac7b-c80f6eeae208",
   "metadata": {},
   "outputs": [
    {
     "name": "stderr",
     "output_type": "stream",
     "text": [
      "/var/folders/ls/cv6sq7tn1hg5n71qzf8f3mr80000gn/T/ipykernel_32030/3228009133.py:14: FutureWarning: The default value of regex will change from True to False in a future version.\n",
      "  train_data['text'] = train_data['text'].str.replace('https?://\\S+|www\\.\\S+', ' ')\n",
      "/var/folders/ls/cv6sq7tn1hg5n71qzf8f3mr80000gn/T/ipykernel_32030/3228009133.py:31: FutureWarning: The default value of regex will change from True to False in a future version.\n",
      "  test_data['text'] = test_data['text'].str.replace('https?://\\S+|www\\.\\S+', ' ')\n",
      "Read 2M words\n",
      "Number of words:  165397\n",
      "Number of labels: 3\n",
      "Progress: 100.0% words/sec/thread: 2838126 lr:  0.000000 avg.loss:  0.353168 ETA:   0h 0m 0s\n"
     ]
    },
    {
     "data": {
      "text/plain": [
       "(2845, 0.8270650263620387, 0.8270650263620387)"
      ]
     },
     "execution_count": 2,
     "metadata": {},
     "output_type": "execute_result"
    }
   ],
   "source": [
    "import fasttext as ft\n",
    "import pandas as pd\n",
    "import time\n",
    "##Load train data\n",
    "train_data = pd.read_csv('/Users/neha/Documents/Semester_2/601TrailRuns/DSCI-601-DSL/dslcc4/DSL-TRAIN.txt', delimiter = \"\\t\", header = None)\n",
    "\n",
    "##Renaming column name.\n",
    "train_data = train_data.rename(columns = {0 : \"text\"})\n",
    "train_data = train_data.rename(columns = {1 : \"lang_variant\"})\n",
    "\n",
    "##Training the model just for spanish variant.\n",
    "spanish_var = ['es-AR', 'es-ES', 'es-PE']\n",
    "train_data = train_data[train_data['lang_variant'].isin(spanish_var)]\n",
    "train_data['text'] = train_data['text'].str.replace('https?://\\S+|www\\.\\S+', ' ')\n",
    "\n",
    "##creating special input file for fasttext format to train the model.\n",
    "file = open(\"fasttext_es_train_wo_spr.txt\",\"w+\")\n",
    "for i in train_data.index:\n",
    "    lines= '__label__'+str(train_data['lang_variant'][i])+ \" \" + train_data['text'][i]\n",
    "    file.write(lines+'\\n')\n",
    "\n",
    "##Work on test data. It should be same as the other train data\n",
    "test_data = pd.read_csv('/Users/neha/Documents/Semester_2/601TrailRuns/DSCI-601-DSL/dslcc4/DSL-TEST-GOLD.txt', delimiter = \"\\t\", header = None)\n",
    "\n",
    "##Renaming column name.\n",
    "test_data = test_data.rename(columns = {0 : \"text\"})\n",
    "test_data = test_data.rename(columns = {1 : \"lang_variant\"})\n",
    "\n",
    "##Test dataset containing just spanish variant.\n",
    "test_data = test_data[test_data['lang_variant'].isin(spanish_var)]\n",
    "test_data['text'] = test_data['text'].str.replace('https?://\\S+|www\\.\\S+', ' ')\n",
    "\n",
    "##creating special input file for fasttext format to test the model.\n",
    "file = open(\"fasttext_es_test_wo_spr.txt\",\"w+\")\n",
    "for i in test_data.index:\n",
    "    lines= '__label__'+str(test_data['lang_variant'][i])+ \" \" + test_data['text'][i]\n",
    "    file.write(lines+'\\n')\n",
    "    \n",
    "start = time.time()\n",
    "model = ft.train_supervised(input=\"fasttext_es_train_wo_spr.txt\") \n",
    "\n",
    "model.test(\"fasttext_es_test_wo_spr.txt\")"
   ]
  },
  {
   "cell_type": "code",
   "execution_count": 3,
   "id": "c17bfa52-1cae-4298-86c1-3fdf6745c701",
   "metadata": {},
   "outputs": [
    {
     "name": "stdout",
     "output_type": "stream",
     "text": [
      "1.6746559143066406\n"
     ]
    }
   ],
   "source": [
    "model_runtime = (time.time() - start)\n",
    "print(model_runtime)"
   ]
  }
 ],
 "metadata": {
  "kernelspec": {
   "display_name": "Python 3 (ipykernel)",
   "language": "python",
   "name": "python3"
  },
  "language_info": {
   "codemirror_mode": {
    "name": "ipython",
    "version": 3
   },
   "file_extension": ".py",
   "mimetype": "text/x-python",
   "name": "python",
   "nbconvert_exporter": "python",
   "pygments_lexer": "ipython3",
   "version": "3.8.11"
  }
 },
 "nbformat": 4,
 "nbformat_minor": 5
}
