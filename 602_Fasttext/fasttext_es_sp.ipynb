{
 "cells": [
  {
   "cell_type": "code",
   "execution_count": 47,
   "id": "8dbb5abc-6f15-4091-a0c5-0d5044ffa59f",
   "metadata": {},
   "outputs": [],
   "source": [
    "import fasttext as ft\n",
    "import time"
   ]
  },
  {
   "cell_type": "code",
   "execution_count": 48,
   "id": "20ac7115-c753-4f7a-8ce4-8e5445a59fc0",
   "metadata": {},
   "outputs": [],
   "source": [
    "##Load train data\n",
    "train_data = pd.read_csv('/Users/neha/Documents/Semester_2/601TrailRuns/DSCI-601-DSL/dslcc4/DSL-TRAIN.txt', delimiter = \"\\t\", header = None)"
   ]
  },
  {
   "cell_type": "code",
   "execution_count": 49,
   "id": "ddeb82f8-b647-4112-b9f2-3a37d50a74a4",
   "metadata": {},
   "outputs": [
    {
     "name": "stderr",
     "output_type": "stream",
     "text": [
      "/var/folders/ls/cv6sq7tn1hg5n71qzf8f3mr80000gn/T/ipykernel_28864/3737277371.py:17: FutureWarning: The default value of regex will change from True to False in a future version. In addition, single character regular expressions will *not* be treated as literal strings when regex=True.\n",
      "  train_data['text'] = train_data['text'].str.replace(char, ' ')\n",
      "/var/folders/ls/cv6sq7tn1hg5n71qzf8f3mr80000gn/T/ipykernel_28864/3737277371.py:18: FutureWarning: The default value of regex will change from True to False in a future version.\n",
      "  train_data['text'] = train_data['text'].str.replace('https?://\\S+|www\\.\\S+', ' ')\n"
     ]
    }
   ],
   "source": [
    "##Renaming column name.\n",
    "train_data = train_data.rename(columns = {0 : \"text\"})\n",
    "train_data = train_data.rename(columns = {1 : \"lang_variant\"})\n",
    "\n",
    "##Training the model just for spanish variant.\n",
    "spanish_var = ['es-AR', 'es-ES', 'es-PE']\n",
    "\n",
    "##Training the model just for spanish variant. Filtering out the spaish variant\n",
    "train_data = train_data[train_data['lang_variant'].isin(spanish_var)]\n",
    "\n",
    "##Removal of special characters : cleaning of data.\n",
    "spec_chars = [\"!\", '\"', \"#\", \"%\", \"&\", \"'\", \"(\", \")\",\n",
    "              \"*\", \"+\", \",\", \"-\", \".\", \"/\", \":\", \";\", \"<\",\n",
    "              \"=\", \">\", \"?\", \"@\", \"[\", \"\\\\\", \"]\", \"^\", \"_\",\n",
    "              \"`\", \"{\", \"|\", \"}\", \"~\", \"–\"]\n",
    "for char in spec_chars:\n",
    "    train_data['text'] = train_data['text'].str.replace(char, ' ')\n",
    "train_data['text'] = train_data['text'].str.replace('https?://\\S+|www\\.\\S+', ' ')"
   ]
  },
  {
   "cell_type": "code",
   "execution_count": 50,
   "id": "127c8552-3a46-4860-81c6-c9820ef9e213",
   "metadata": {},
   "outputs": [],
   "source": [
    "file = open(\"fasttext_es_train.txt\",\"w+\")\n",
    "for i in train_data.index:\n",
    "    lines= '__label__'+str(train_data['lang_variant'][i])+ \" \" + train_data['text'][i]\n",
    "    file.write(lines+'\\n')"
   ]
  },
  {
   "cell_type": "code",
   "execution_count": 51,
   "id": "8418f563-33f5-4468-862e-4e2ca98252a6",
   "metadata": {},
   "outputs": [
    {
     "name": "stderr",
     "output_type": "stream",
     "text": [
      "Read 2M words\n",
      "Number of words:  100272\n",
      "Number of labels: 3\n",
      "Progress: 100.0% words/sec/thread: 2150506 lr:  0.000000 avg.loss:  0.332439 ETA:   0h 0m 0ss\n"
     ]
    }
   ],
   "source": [
    "start = time.time()\n",
    "model = ft.train_supervised(input=\"fasttext_es_train.txt\") "
   ]
  },
  {
   "cell_type": "code",
   "execution_count": 52,
   "id": "f20b8cf5-56c9-416f-8296-0ad9bdc2ba3d",
   "metadata": {},
   "outputs": [
    {
     "name": "stdout",
     "output_type": "stream",
     "text": [
      "['__label__es-ES', '__label__es-AR', '__label__es-PE']\n"
     ]
    }
   ],
   "source": [
    "print(model.labels)"
   ]
  },
  {
   "cell_type": "code",
   "execution_count": 53,
   "id": "27191cb6-1458-45d5-b8a7-6815b524284b",
   "metadata": {},
   "outputs": [
    {
     "data": {
      "text/plain": [
       "(('__label__es-AR',), array([0.96882272]))"
      ]
     },
     "execution_count": 53,
     "metadata": {},
     "output_type": "execute_result"
    }
   ],
   "source": [
    "model.predict(\"Fecha  del 23 al 25 de Noviembre de 18 a 23hs\")"
   ]
  },
  {
   "cell_type": "code",
   "execution_count": 54,
   "id": "ed775784-96d1-4585-bd57-d365e0a07780",
   "metadata": {},
   "outputs": [
    {
     "name": "stderr",
     "output_type": "stream",
     "text": [
      "/var/folders/ls/cv6sq7tn1hg5n71qzf8f3mr80000gn/T/ipykernel_28864/2557661177.py:17: FutureWarning: The default value of regex will change from True to False in a future version. In addition, single character regular expressions will *not* be treated as literal strings when regex=True.\n",
      "  test_data['text'] = test_data['text'].str.replace(char, ' ')\n",
      "/var/folders/ls/cv6sq7tn1hg5n71qzf8f3mr80000gn/T/ipykernel_28864/2557661177.py:18: FutureWarning: The default value of regex will change from True to False in a future version.\n",
      "  test_data['text'] = test_data['text'].str.replace('https?://\\S+|www\\.\\S+', ' ')\n"
     ]
    }
   ],
   "source": [
    "##Work on test data. It should be same as the other train data\n",
    "test_data = pd.read_csv('/Users/neha/Documents/Semester_2/601TrailRuns/DSCI-601-DSL/dslcc4/DSL-TEST-GOLD.txt', delimiter = \"\\t\", header = None)\n",
    "\n",
    "##Renaming column name.\n",
    "test_data = test_data.rename(columns = {0 : \"text\"})\n",
    "test_data = test_data.rename(columns = {1 : \"lang_variant\"})\n",
    "\n",
    "##Test dataset containing just spanish variant.\n",
    "test_data = test_data[test_data['lang_variant'].isin(spanish_var)]\n",
    "\n",
    "##Removal of special characters : cleaning of data.\n",
    "spec_chars_test = [\"!\", '\"', \"#\", \"%\", \"&\", \"'\", \"(\", \")\",\n",
    "              \"*\", \"+\", \",\", \"-\", \".\", \"/\", \":\", \";\", \"<\",\n",
    "              \"=\", \">\", \"?\", \"@\", \"[\", \"\\\\\", \"]\", \"^\", \"_\",\n",
    "              \"`\", \"{\", \"|\", \"}\", \"~\", \"–\"]\n",
    "for char in spec_chars_test:\n",
    "    test_data['text'] = test_data['text'].str.replace(char, ' ')\n",
    "test_data['text'] = test_data['text'].str.replace('https?://\\S+|www\\.\\S+', ' ')"
   ]
  },
  {
   "cell_type": "code",
   "execution_count": 55,
   "id": "c3a22a6a-62a6-4c73-bfca-2088910b4a3b",
   "metadata": {},
   "outputs": [],
   "source": [
    "file = open(\"fasttext_es_test.txt\",\"w+\")\n",
    "for i in test_data.index:\n",
    "    lines= '__label__'+str(test_data['lang_variant'][i])+ \" \" + test_data['text'][i]\n",
    "    file.write(lines+'\\n')"
   ]
  },
  {
   "cell_type": "code",
   "execution_count": 56,
   "id": "b482ed03-de7e-420c-808f-31d649e4a972",
   "metadata": {},
   "outputs": [
    {
     "data": {
      "text/plain": [
       "(2845, 0.8362038664323375, 0.8362038664323375)"
      ]
     },
     "execution_count": 56,
     "metadata": {},
     "output_type": "execute_result"
    }
   ],
   "source": [
    "model.test(\"fasttext_es_test.txt\")"
   ]
  },
  {
   "cell_type": "code",
   "execution_count": 57,
   "id": "e0e088aa-06b1-4cf0-887d-9dd50694adf1",
   "metadata": {},
   "outputs": [
    {
     "name": "stdout",
     "output_type": "stream",
     "text": [
      "2.689896821975708\n"
     ]
    }
   ],
   "source": [
    "model_runtime = (time.time() - start)\n",
    "print(model_runtime)"
   ]
  }
 ],
 "metadata": {
  "kernelspec": {
   "display_name": "Python 3 (ipykernel)",
   "language": "python",
   "name": "python3"
  },
  "language_info": {
   "codemirror_mode": {
    "name": "ipython",
    "version": 3
   },
   "file_extension": ".py",
   "mimetype": "text/x-python",
   "name": "python",
   "nbconvert_exporter": "python",
   "pygments_lexer": "ipython3",
   "version": "3.8.11"
  }
 },
 "nbformat": 4,
 "nbformat_minor": 5
}
