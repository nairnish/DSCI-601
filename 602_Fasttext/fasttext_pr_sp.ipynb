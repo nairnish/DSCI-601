{
 "cells": [
  {
   "cell_type": "code",
   "execution_count": 2,
   "id": "6732bba3-b25d-4a78-9bc4-1dd6e2645682",
   "metadata": {},
   "outputs": [
    {
     "name": "stderr",
     "output_type": "stream",
     "text": [
      "/var/folders/ls/cv6sq7tn1hg5n71qzf8f3mr80000gn/T/ipykernel_29506/186537926.py:21: FutureWarning: The default value of regex will change from True to False in a future version. In addition, single character regular expressions will *not* be treated as literal strings when regex=True.\n",
      "  train_data['text'] = train_data['text'].str.replace(char, ' ')\n",
      "/var/folders/ls/cv6sq7tn1hg5n71qzf8f3mr80000gn/T/ipykernel_29506/186537926.py:22: FutureWarning: The default value of regex will change from True to False in a future version.\n",
      "  train_data['text'] = train_data['text'].str.replace('https?://\\S+|www\\.\\S+', ' ')\n",
      "/var/folders/ls/cv6sq7tn1hg5n71qzf8f3mr80000gn/T/ipykernel_29506/186537926.py:46: FutureWarning: The default value of regex will change from True to False in a future version. In addition, single character regular expressions will *not* be treated as literal strings when regex=True.\n",
      "  test_data['text'] = test_data['text'].str.replace(char, ' ')\n",
      "/var/folders/ls/cv6sq7tn1hg5n71qzf8f3mr80000gn/T/ipykernel_29506/186537926.py:47: FutureWarning: The default value of regex will change from True to False in a future version.\n",
      "  test_data['text'] = test_data['text'].str.replace('https?://\\S+|www\\.\\S+', ' ')\n",
      "Read 1M words\n",
      "Number of words:  78105\n",
      "Number of labels: 2\n",
      "Progress: 100.0% words/sec/thread: 2849929 lr:  0.000000 avg.loss:  0.198749 ETA:   0h 0m 0s\n"
     ]
    },
    {
     "data": {
      "text/plain": [
       "(1908, 0.9082809224318659, 0.9082809224318659)"
      ]
     },
     "execution_count": 2,
     "metadata": {},
     "output_type": "execute_result"
    }
   ],
   "source": [
    "import fasttext as ft\n",
    "import pandas as pd\n",
    "import time\n",
    "##Load train data\n",
    "train_data = pd.read_csv('/Users/neha/Documents/Semester_2/601TrailRuns/DSCI-601-DSL/dslcc4/DSL-TRAIN.txt', delimiter = \"\\t\", header = None)\n",
    "\n",
    "##Renaming column name.\n",
    "train_data = train_data.rename(columns = {0 : \"text\"})\n",
    "train_data = train_data.rename(columns = {1 : \"lang_variant\"})\n",
    "\n",
    "##Training the model just for portuguese variant.\n",
    "portugese_var =['pt-BR', 'pt-PT']\n",
    "train_data = train_data[train_data['lang_variant'].isin(portugese_var)]\n",
    "\n",
    "##Removal of special characters : cleaning of data.\n",
    "spec_chars = [\"!\", '\"', \"#\", \"%\", \"&\", \"'\", \"(\", \")\",\n",
    "              \"*\", \"+\", \",\", \"-\", \".\", \"/\", \":\", \";\", \"<\",\n",
    "              \"=\", \">\", \"?\", \"@\", \"[\", \"\\\\\", \"]\", \"^\", \"_\",\n",
    "              \"`\", \"{\", \"|\", \"}\", \"~\", \"–\"]\n",
    "for char in spec_chars:\n",
    "    train_data['text'] = train_data['text'].str.replace(char, ' ')\n",
    "train_data['text'] = train_data['text'].str.replace('https?://\\S+|www\\.\\S+', ' ')\n",
    "\n",
    "##creating special input file for fasttext format to train the model.\n",
    "file = open(\"fasttext_pr_train.txt\",\"w+\")\n",
    "for i in train_data.index:\n",
    "    lines= '__label__'+str(train_data['lang_variant'][i])+ \" \" + train_data['text'][i]\n",
    "    file.write(lines+'\\n')\n",
    "\n",
    "##Work on test data. It should be same as the other train data\n",
    "test_data = pd.read_csv('/Users/neha/Documents/Semester_2/601TrailRuns/DSCI-601-DSL/dslcc4/DSL-TEST-GOLD.txt', delimiter = \"\\t\", header = None)\n",
    "\n",
    "##Renaming column name.\n",
    "test_data = test_data.rename(columns = {0 : \"text\"})\n",
    "test_data = test_data.rename(columns = {1 : \"lang_variant\"})\n",
    "\n",
    "##Test dataset containing just spanish variant.\n",
    "test_data = test_data[test_data['lang_variant'].isin(portugese_var)]\n",
    "\n",
    "##Removal of special characters : cleaning of data.\n",
    "spec_chars_test = [\"!\", '\"', \"#\", \"%\", \"&\", \"'\", \"(\", \")\",\n",
    "              \"*\", \"+\", \",\", \"-\", \".\", \"/\", \":\", \";\", \"<\",\n",
    "              \"=\", \">\", \"?\", \"@\", \"[\", \"\\\\\", \"]\", \"^\", \"_\",\n",
    "              \"`\", \"{\", \"|\", \"}\", \"~\", \"–\"]\n",
    "for char in spec_chars_test:\n",
    "    test_data['text'] = test_data['text'].str.replace(char, ' ')\n",
    "test_data['text'] = test_data['text'].str.replace('https?://\\S+|www\\.\\S+', ' ')\n",
    "\n",
    "##creating special input file for fasttext format to test the model.\n",
    "file = open(\"fasttext_pr_test.txt\",\"w+\")\n",
    "for i in test_data.index:\n",
    "    lines= '__label__'+str(test_data['lang_variant'][i])+ \" \" + test_data['text'][i]\n",
    "    file.write(lines+'\\n')\n",
    "\n",
    "start = time.time()\n",
    "model = ft.train_supervised(input=\"fasttext_pr_train.txt\") \n",
    "\n",
    "model.test(\"fasttext_pr_test.txt\")"
   ]
  },
  {
   "cell_type": "code",
   "execution_count": 3,
   "id": "e79414b4-0e01-4819-8b2a-1825d9d7f38a",
   "metadata": {},
   "outputs": [
    {
     "name": "stdout",
     "output_type": "stream",
     "text": [
      "1.1566340923309326\n"
     ]
    }
   ],
   "source": [
    "model_runtime = (time.time() - start)\n",
    "print(model_runtime)"
   ]
  }
 ],
 "metadata": {
  "kernelspec": {
   "display_name": "Python 3 (ipykernel)",
   "language": "python",
   "name": "python3"
  },
  "language_info": {
   "codemirror_mode": {
    "name": "ipython",
    "version": 3
   },
   "file_extension": ".py",
   "mimetype": "text/x-python",
   "name": "python",
   "nbconvert_exporter": "python",
   "pygments_lexer": "ipython3",
   "version": "3.8.11"
  }
 },
 "nbformat": 4,
 "nbformat_minor": 5
}
